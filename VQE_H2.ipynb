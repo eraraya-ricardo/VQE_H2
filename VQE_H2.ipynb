{
  "nbformat": 4,
  "nbformat_minor": 0,
  "metadata": {
    "kernelspec": {
      "display_name": "Python 3",
      "language": "python",
      "name": "python3"
    },
    "language_info": {
      "codemirror_mode": {
        "name": "ipython",
        "version": 3
      },
      "file_extension": ".py",
      "mimetype": "text/x-python",
      "name": "python",
      "nbconvert_exporter": "python",
      "pygments_lexer": "ipython3",
      "version": "3.7.2"
    },
    "colab": {
      "name": "VQE_H2.ipynb",
      "provenance": [],
      "collapsed_sections": []
    }
  },
  "cells": [
    {
      "cell_type": "code",
      "metadata": {
        "id": "ffFq6iYN0q4r"
      },
      "source": [
        "import os\r\n",
        "\r\n",
        "def restart_runtime():\r\n",
        "  os.kill(os.getpid(), 9)\r\n",
        "restart_runtime()"
      ],
      "execution_count": null,
      "outputs": []
    },
    {
      "cell_type": "code",
      "metadata": {
        "colab": {
          "base_uri": "https://localhost:8080/"
        },
        "id": "_8moVMnv0nN3",
        "outputId": "30b95cbe-d40d-47ba-db15-1631f6f73c0c"
      },
      "source": [
        "from google.colab import drive\r\n",
        "drive.mount('/content/drive')"
      ],
      "execution_count": null,
      "outputs": [
        {
          "output_type": "stream",
          "text": [
            "Drive already mounted at /content/drive; to attempt to forcibly remount, call drive.mount(\"/content/drive\", force_remount=True).\n"
          ],
          "name": "stdout"
        }
      ]
    },
    {
      "cell_type": "code",
      "metadata": {
        "colab": {
          "base_uri": "https://localhost:8080/"
        },
        "id": "SYXuvp_Vf4Sx",
        "outputId": "f616b96d-7f9b-4ca6-a691-8a29b9fc5092"
      },
      "source": [
        "%cd '/content/drive/MyDrive/Projects'"
      ],
      "execution_count": null,
      "outputs": [
        {
          "output_type": "stream",
          "text": [
            "/content/drive/MyDrive/Projects\n"
          ],
          "name": "stdout"
        }
      ]
    },
    {
      "cell_type": "code",
      "metadata": {
        "id": "vPIpF39_0sSu"
      },
      "source": [
        "#!pip install pennylane\r\n",
        "#!pip install pennylane-qiskit\r\n",
        "#!pip install qiskit\r\n",
        "#!pip install pennylane-qchem\r\n",
        "\r\n",
        "!pip install pyscf\r\n",
        "\r\n",
        "#!pip install pylatexenc\r\n",
        "#!pip install --update openfermion\r\n",
        "\r\n",
        "from IPython.display import clear_output\r\n",
        "clear_output()"
      ],
      "execution_count": null,
      "outputs": []
    },
    {
      "cell_type": "code",
      "metadata": {
        "id": "bSgFMud10BNo"
      },
      "source": [
        "# This cell is added by sphinx-gallery\n",
        "# It can be customized to whatever you like\n",
        "%matplotlib inline"
      ],
      "execution_count": null,
      "outputs": []
    },
    {
      "cell_type": "code",
      "metadata": {
        "id": "5sakpoDn3kpp",
        "colab": {
          "base_uri": "https://localhost:8080/"
        },
        "outputId": "65a2ad0c-da7e-4941-b1e3-912733514ec6"
      },
      "source": [
        "from qiskit import IBMQ\r\n",
        "\r\n",
        "from qiskit import *\r\n",
        "from qiskit.providers.aer.noise import NoiseModel"
      ],
      "execution_count": null,
      "outputs": [
        {
          "output_type": "stream",
          "text": [
            "configrc.store_credentials:WARNING:2020-12-24 16:54:14,775: Credentials already present. Set overwrite=True to overwrite.\n"
          ],
          "name": "stderr"
        }
      ]
    },
    {
      "cell_type": "code",
      "metadata": {
        "id": "hbE71WOZ3lrv"
      },
      "source": [
        "import pennylane as qml\r\n",
        "import numpy as np\r\n",
        "import matplotlib.pyplot as plt"
      ],
      "execution_count": null,
      "outputs": []
    },
    {
      "cell_type": "markdown",
      "metadata": {
        "id": "08RHi9RoaxcD"
      },
      "source": [
        "# FCI"
      ]
    },
    {
      "cell_type": "code",
      "metadata": {
        "id": "iOtsySIPfls3"
      },
      "source": [
        "from pyscf import gto, scf, ao2mo, fci\r\n",
        "import numpy as np\r\n",
        "from matplotlib import pyplot as plt"
      ],
      "execution_count": null,
      "outputs": []
    },
    {
      "cell_type": "code",
      "metadata": {
        "id": "LzvrSlY6flOz"
      },
      "source": [
        "def FCI(L, e_list):\r\n",
        "  mol = gto.M(atom='H 0 0 ' + str(L) + '; H 0 0 0', basis='sto-3g')\r\n",
        "  mf = scf.RHF(mol).run()\r\n",
        "  h1 = mf.mo_coeff.T.dot(mf.get_hcore()).dot(mf.mo_coeff)\r\n",
        "  eri = ao2mo.kernel(mol, mf.mo_coeff)\r\n",
        "  cisolver = fci.direct_spin1.FCI(mol)\r\n",
        "  e, ci = cisolver.kernel(h1, eri, h1.shape[1], mol.nelec, ecore=mol.energy_nuc())\r\n",
        "  e_list += [e]\r\n",
        "  return e_list\r\n",
        "  #print(e)"
      ],
      "execution_count": null,
      "outputs": []
    },
    {
      "cell_type": "code",
      "metadata": {
        "colab": {
          "base_uri": "https://localhost:8080/"
        },
        "id": "VjcIRjyjiXS0",
        "outputId": "93920952-b9fd-4be9-e04f-2aefbc0fcdaa"
      },
      "source": [
        "FCI(0.7414, [])"
      ],
      "execution_count": null,
      "outputs": [
        {
          "output_type": "stream",
          "text": [
            "converged SCF energy = -1.11668438708534\n"
          ],
          "name": "stdout"
        },
        {
          "output_type": "execute_result",
          "data": {
            "text/plain": [
              "[-1.1372701746609022]"
            ]
          },
          "metadata": {
            "tags": []
          },
          "execution_count": 36
        }
      ]
    },
    {
      "cell_type": "code",
      "metadata": {
        "id": "X_4MfFusgbsC"
      },
      "source": [
        "e_fci = []\r\n",
        "\r\n",
        "bond_length_fci = np.linspace(0.1, 3.0, 30)\r\n",
        "\r\n",
        "for i in range(len(bond_length_fci)):\r\n",
        "  e_fci = FCI(bond_length_fci[i], e_fci)\r\n",
        "\r\n",
        "from IPython.display import clear_output\r\n",
        "clear_output()"
      ],
      "execution_count": null,
      "outputs": []
    },
    {
      "cell_type": "code",
      "metadata": {
        "colab": {
          "base_uri": "https://localhost:8080/",
          "height": 284
        },
        "id": "ep4kGaLYixHC",
        "outputId": "ae8f9b46-299b-4d92-e286-2f478245a132"
      },
      "source": [
        "plt.plot(bond_length_fci, e_fci)"
      ],
      "execution_count": null,
      "outputs": [
        {
          "output_type": "execute_result",
          "data": {
            "text/plain": [
              "[<matplotlib.lines.Line2D at 0x7f5804b9eb70>]"
            ]
          },
          "metadata": {
            "tags": []
          },
          "execution_count": 96
        },
        {
          "output_type": "display_data",
          "data": {
            "image/png": "[encoded data removed]",
            "text/plain": [
              "<Figure size 432x288 with 1 Axes>"
            ]
          },
          "metadata": {
            "tags": [],
            "needs_background": "light"
          }
        }
      ]
    },
    {
      "cell_type": "code",
      "metadata": {
        "colab": {
          "base_uri": "https://localhost:8080/"
        },
        "id": "o2cHHWNykISS",
        "outputId": "cc923147-a655-4cb1-b9fb-d68ddd3d10f2"
      },
      "source": [
        "bond_length_fci[np.argmin(e_fci)]"
      ],
      "execution_count": null,
      "outputs": [
        {
          "output_type": "execute_result",
          "data": {
            "text/plain": [
              "0.7"
            ]
          },
          "metadata": {
            "tags": []
          },
          "execution_count": 97
        }
      ]
    },
    {
      "cell_type": "code",
      "metadata": {
        "id": "aRH_RB0Gml8U"
      },
      "source": [
        "np.savetxt('./FCI_energy_wide_30.txt', e_fci)\r\n",
        "#np.savetxt('./FCI_length_crammed.txt', bond_length_fci)"
      ],
      "execution_count": null,
      "outputs": []
    },
    {
      "cell_type": "code",
      "metadata": {
        "id": "gbETwYeY0BNy"
      },
      "source": [
        "import pennylane as qml\n",
        "from pennylane import qchem\n",
        "from pennylane import numpy as np"
      ],
      "execution_count": null,
      "outputs": []
    },
    {
      "cell_type": "markdown",
      "metadata": {
        "id": "nzVShOjW71Cy"
      },
      "source": [
        "# VQE"
      ]
    },
    {
      "cell_type": "markdown",
      "metadata": {
        "id": "pyQxSp5c8BgP"
      },
      "source": [
        "## Molecule Geometry"
      ]
    },
    {
      "cell_type": "code",
      "metadata": {
        "colab": {
          "base_uri": "https://localhost:8080/",
          "height": 36
        },
        "id": "Q7bWZdDJuiyx",
        "outputId": "d873cf8b-6d4e-48e1-d5e2-b3fc281997de"
      },
      "source": [
        "f = open(\"./h2.xyz\")\r\n",
        "f.read()"
      ],
      "execution_count": null,
      "outputs": [
        {
          "output_type": "execute_result",
          "data": {
            "application/vnd.google.colaboratory.intrinsic+json": {
              "type": "string"
            },
            "text/plain": [
              "'2\\nin Angstrom\\nH          0.00000        0.00000        0.00000\\nH          0.00000        0.00000        0.750000\\n'"
            ]
          },
          "metadata": {
            "tags": []
          },
          "execution_count": 8
        }
      ]
    },
    {
      "cell_type": "code",
      "metadata": {
        "id": "1w9C2L0MzZHE"
      },
      "source": [
        "def change_geometry(L_new, L_prev):\r\n",
        "  #read input file\r\n",
        "  fin = open(\"./h2.xyz\", \"rt\")\r\n",
        "  #read file contents to string\r\n",
        "  data = fin.read()\r\n",
        "  #replace all occurrences of the required string\r\n",
        "  data = data.replace(str(L_prev), str(L_new))\r\n",
        "  #close the input file\r\n",
        "  fin.close()\r\n",
        "  #open the input file in write mode\r\n",
        "  fin = open(\"./h2.xyz\", \"wt\")\r\n",
        "  #overrite the input file with the resulting data\r\n",
        "  fin.write(data)\r\n",
        "  #close the file\r\n",
        "  fin.close()\r\n",
        "  return L_new"
      ],
      "execution_count": null,
      "outputs": []
    },
    {
      "cell_type": "code",
      "metadata": {
        "colab": {
          "base_uri": "https://localhost:8080/"
        },
        "id": "vMNHWgYW2Abl",
        "outputId": "cca865f8-10d7-4e96-ad07-9ac4455f5de2"
      },
      "source": [
        "change_geometry(0.10, 0.90)"
      ],
      "execution_count": null,
      "outputs": [
        {
          "output_type": "execute_result",
          "data": {
            "text/plain": [
              "0.1"
            ]
          },
          "metadata": {
            "tags": []
          },
          "execution_count": 112
        }
      ]
    },
    {
      "cell_type": "markdown",
      "metadata": {
        "id": "GxzqHr2R8Z61"
      },
      "source": [
        "## Jordan-Wigner Mapping"
      ]
    },
    {
      "cell_type": "code",
      "metadata": {
        "id": "sgms4tpi0BN7"
      },
      "source": [
        "def jordan_wigner_map():\n",
        "  geometry = './h2.xyz'\n",
        "  charge = 0\n",
        "  multiplicity = 1\n",
        "  basis_set = 'sto-3g'\n",
        "  name = 'h2'\n",
        "\n",
        "  h, qubits = qchem.molecular_hamiltonian(\n",
        "      name,\n",
        "      geometry,\n",
        "      charge=charge,\n",
        "      mult=multiplicity,\n",
        "      basis=basis_set,\n",
        "      active_electrons=2,\n",
        "      active_orbitals=2,\n",
        "      mapping='jordan_wigner'\n",
        "  )\n",
        "\n",
        "  #print('Number of qubits = ', qubits)\n",
        "  #print('Hamiltonian is ', h)\n",
        "\n",
        "  return h"
      ],
      "execution_count": null,
      "outputs": []
    },
    {
      "cell_type": "code",
      "metadata": {
        "colab": {
          "base_uri": "https://localhost:8080/"
        },
        "id": "uNgyCmlH2qtj",
        "outputId": "c1c5c03e-10cb-485d-9831-aad0cf5ae200"
      },
      "source": [
        "print(jordan_wigner_map())"
      ],
      "execution_count": null,
      "outputs": [
        {
          "output_type": "stream",
          "text": [
            "(5.060740822127862) [I0]\n",
            "+ (0.30083789386566806) [Z0]\n",
            "+ (0.300837893865668) [Z1]\n",
            "+ (-0.726476789977057) [Z2]\n",
            "+ (-0.7264767899770572) [Z3]\n",
            "+ (0.19297139907187022) [Z0 Z1]\n",
            "+ (0.03904256477431653) [Y0 X1 X2 Y3]\n",
            "+ (-0.03904256477431653) [Y0 Y1 X2 X3]\n",
            "+ (-0.03904256477431653) [X0 X1 Y2 Y3]\n",
            "+ (0.03904256477431653) [X0 Y1 Y2 X3]\n",
            "+ (0.15204536016841363) [Z0 Z2]\n",
            "+ (0.19108792494273016) [Z0 Z3]\n",
            "+ (0.19108792494273016) [Z1 Z2]\n",
            "+ (0.15204536016841363) [Z1 Z3]\n",
            "+ (0.2030711100007584) [Z2 Z3]\n"
          ],
          "name": "stdout"
        }
      ]
    },
    {
      "cell_type": "markdown",
      "metadata": {
        "id": "vTunO6ej8eal"
      },
      "source": [
        "## Devices"
      ]
    },
    {
      "cell_type": "code",
      "metadata": {
        "colab": {
          "base_uri": "https://localhost:8080/"
        },
        "id": "a3Ft3f5yzj6A",
        "outputId": "01fb15bc-d318-4ffa-cf9d-e837be139cd0"
      },
      "source": [
        "provider = IBMQ.load_account()\r\n",
        "backend = provider.get_backend('ibmq_vigo')\r\n",
        "noise_model = NoiseModel.from_backend(backend)"
      ],
      "execution_count": null,
      "outputs": [
        {
          "output_type": "stream",
          "text": [
            "/usr/local/lib/python3.6/dist-packages/qiskit/providers/ibmq/ibmqfactory.py:192: UserWarning: Timestamps in IBMQ backend properties, jobs, and job results are all now in local time instead of UTC.\n",
            "  warnings.warn('Timestamps in IBMQ backend properties, jobs, and job results '\n"
          ],
          "name": "stderr"
        }
      ]
    },
    {
      "cell_type": "code",
      "metadata": {
        "id": "Ul7H5pSc3_i5"
      },
      "source": [
        "dev_noisy = qml.device(\"qiskit.aer\", wires=qubits, shots=2048, noise_model = noise_model, analytic=False, backend='qasm_simulator')\r\n",
        "cost_noisy = qml.ExpvalCost(circuit, h, dev_noisy)"
      ],
      "execution_count": null,
      "outputs": []
    },
    {
      "cell_type": "markdown",
      "metadata": {
        "id": "pptkYqOk4PRb"
      },
      "source": [
        "## Ground State Energy as function of bond length"
      ]
    },
    {
      "cell_type": "code",
      "metadata": {
        "colab": {
          "base_uri": "https://localhost:8080/"
        },
        "id": "XEjoygwG4qke",
        "outputId": "273d6e23-9f68-41bb-87e8-5eac57c55012"
      },
      "source": [
        "max_iterations = 1000\r\n",
        "conv_tol = 1e-08\r\n",
        "\r\n",
        "qubits = 4\r\n",
        "\r\n",
        "energy_list = []\r\n",
        "bond_length_vqe = np.linspace(0.73, 0.75, 20)\r\n",
        "\r\n",
        "L_before = 0.80\r\n",
        "\r\n",
        "for k in range(len(bond_length_vqe)):\r\n",
        "\r\n",
        "  L = bond_length_vqe[k]\r\n",
        "\r\n",
        "  L_before = change_geometry(L, L_before)\r\n",
        "\r\n",
        "  dev = qml.device('default.qubit', wires=qubits)\r\n",
        "\r\n",
        "  def circuit(params, wires):\r\n",
        "      #qml.BasisState(np.array([1, 1, 0, 0]), wires=wires)\r\n",
        "      for i in wires:\r\n",
        "          qml.Rot(*params[i], wires=i)\r\n",
        "      qml.CNOT(wires=[2, 3])\r\n",
        "      qml.CNOT(wires=[2, 0])\r\n",
        "      qml.CNOT(wires=[3, 1])\r\n",
        "\r\n",
        "  h = jordan_wigner_map()\r\n",
        "\r\n",
        "  cost_fn = qml.ExpvalCost(circuit, h, dev)\r\n",
        "\r\n",
        "  opt = qml.AdamOptimizer(stepsize=0.01)\r\n",
        "  np.random.seed(0)\r\n",
        "  params = np.random.normal(0, np.pi, (qubits, 3))\r\n",
        "\r\n",
        "  prev_energy = cost_fn(params)\r\n",
        "\r\n",
        "  for n in range(max_iterations):\r\n",
        "      params = opt.step(cost_fn, params)\r\n",
        "      energy = cost_fn(params)\r\n",
        "      conv = np.abs(energy - prev_energy)\r\n",
        "\r\n",
        "      if conv <= conv_tol:\r\n",
        "          break\r\n",
        "\r\n",
        "      prev_energy = energy\r\n",
        "\r\n",
        "  energy_list += [energy]\r\n",
        "  print()\r\n",
        "  print('Bond Length = {:.4f} Angstrom'.format(L))\r\n",
        "  print('Final convergence parameter = {:.8f} Ha'.format(conv))\r\n",
        "  print('Final value of the ground-state energy = {:.8f} Ha'.format(energy))\r\n",
        "  print()\r\n",
        "\r\n"
      ],
      "execution_count": null,
      "outputs": [
        {
          "output_type": "stream",
          "text": [
            "\n",
            "Bond Length = 0.73 Angstrom\n",
            "Final convergence parameter = 0.00000001 Ha\n",
            "Final value of the ground-state energy = -1.13728561 Ha\n",
            "\n",
            "\n",
            "Bond Length = 0.73 Angstrom\n",
            "Final convergence parameter = 0.00000001 Ha\n",
            "Final value of the ground-state energy = -1.13729350 Ha\n",
            "\n",
            "\n",
            "Bond Length = 0.73 Angstrom\n",
            "Final convergence parameter = 0.00000001 Ha\n",
            "Final value of the ground-state energy = -1.13729945 Ha\n",
            "\n",
            "\n",
            "Bond Length = 0.73 Angstrom\n",
            "Final convergence parameter = 0.00000001 Ha\n",
            "Final value of the ground-state energy = -1.13730349 Ha\n",
            "\n",
            "\n",
            "Bond Length = 0.73 Angstrom\n",
            "Final convergence parameter = 0.00000001 Ha\n",
            "Final value of the ground-state energy = -1.13730562 Ha\n",
            "\n",
            "\n",
            "Bond Length = 0.74 Angstrom\n",
            "Final convergence parameter = 0.00000001 Ha\n",
            "Final value of the ground-state energy = -1.13730585 Ha\n",
            "\n",
            "\n",
            "Bond Length = 0.74 Angstrom\n",
            "Final convergence parameter = 0.00000001 Ha\n",
            "Final value of the ground-state energy = -1.13730420 Ha\n",
            "\n",
            "\n",
            "Bond Length = 0.74 Angstrom\n",
            "Final convergence parameter = 0.00000001 Ha\n",
            "Final value of the ground-state energy = -1.13730067 Ha\n",
            "\n",
            "\n",
            "Bond Length = 0.74 Angstrom\n",
            "Final convergence parameter = 0.00000001 Ha\n",
            "Final value of the ground-state energy = -1.13729529 Ha\n",
            "\n",
            "\n",
            "Bond Length = 0.74 Angstrom\n",
            "Final convergence parameter = 0.00000001 Ha\n",
            "Final value of the ground-state energy = -1.13728807 Ha\n",
            "\n",
            "\n",
            "Bond Length = 0.74 Angstrom\n",
            "Final convergence parameter = 0.00000001 Ha\n",
            "Final value of the ground-state energy = -1.13727901 Ha\n",
            "\n",
            "\n",
            "Bond Length = 0.74 Angstrom\n",
            "Final convergence parameter = 0.00000001 Ha\n",
            "Final value of the ground-state energy = -1.13726813 Ha\n",
            "\n",
            "\n",
            "Bond Length = 0.74 Angstrom\n",
            "Final convergence parameter = 0.00000001 Ha\n",
            "Final value of the ground-state energy = -1.13725544 Ha\n",
            "\n",
            "\n",
            "Bond Length = 0.74 Angstrom\n",
            "Final convergence parameter = 0.00000001 Ha\n",
            "Final value of the ground-state energy = -1.13724096 Ha\n",
            "\n",
            "\n",
            "Bond Length = 0.74 Angstrom\n",
            "Final convergence parameter = 0.00000001 Ha\n",
            "Final value of the ground-state energy = -1.13722469 Ha\n",
            "\n",
            "\n",
            "Bond Length = 0.75 Angstrom\n",
            "Final convergence parameter = 0.00000001 Ha\n",
            "Final value of the ground-state energy = -1.13720665 Ha\n",
            "\n",
            "\n",
            "Bond Length = 0.75 Angstrom\n",
            "Final convergence parameter = 0.00000001 Ha\n",
            "Final value of the ground-state energy = -1.13718685 Ha\n",
            "\n",
            "\n",
            "Bond Length = 0.75 Angstrom\n",
            "Final convergence parameter = 0.00000001 Ha\n",
            "Final value of the ground-state energy = -1.13716530 Ha\n",
            "\n",
            "\n",
            "Bond Length = 0.75 Angstrom\n",
            "Final convergence parameter = 0.00000001 Ha\n",
            "Final value of the ground-state energy = -1.13714201 Ha\n",
            "\n",
            "\n",
            "Bond Length = 0.75 Angstrom\n",
            "Final convergence parameter = 0.00000001 Ha\n",
            "Final value of the ground-state energy = -1.13711700 Ha\n",
            "\n"
          ],
          "name": "stdout"
        }
      ]
    },
    {
      "cell_type": "code",
      "metadata": {
        "id": "BwQxtfmNgnXq"
      },
      "source": [
        "np.savetxt('./VQE_energy_vs_L_crammed.txt', energy_list)\r\n",
        "np.savetxt('./VQE_length_crammed.txt', bond_length_vqe)"
      ],
      "execution_count": null,
      "outputs": []
    },
    {
      "cell_type": "markdown",
      "metadata": {
        "id": "VVwI85aKbk8w"
      },
      "source": [
        "## Ground State Energy as function of number of iterations (fixed bond length)"
      ]
    },
    {
      "cell_type": "code",
      "metadata": {
        "colab": {
          "base_uri": "https://localhost:8080/"
        },
        "id": "YqaF1moScv3B",
        "outputId": "cfa573f3-8a21-49ec-841c-f4d1b7276d9a"
      },
      "source": [
        "change_geometry(0.7414, 0.7348650)"
      ],
      "execution_count": null,
      "outputs": [
        {
          "output_type": "execute_result",
          "data": {
            "text/plain": [
              "0.7414"
            ]
          },
          "metadata": {
            "tags": []
          },
          "execution_count": 21
        }
      ]
    },
    {
      "cell_type": "code",
      "metadata": {
        "colab": {
          "base_uri": "https://localhost:8080/",
          "height": 36
        },
        "id": "WbO5UlIjcsZT",
        "outputId": "3599f30f-7bda-45ba-c8bc-e398a1a1a65a"
      },
      "source": [
        "f = open(\"./h2.xyz\")\r\n",
        "f.read()"
      ],
      "execution_count": null,
      "outputs": [
        {
          "output_type": "execute_result",
          "data": {
            "application/vnd.google.colaboratory.intrinsic+json": {
              "type": "string"
            },
            "text/plain": [
              "'2\\nin Angstrom\\nH          0.00000        0.00000        0.00000\\nH          0.00000        0.00000        0.74140000\\n'"
            ]
          },
          "metadata": {
            "tags": []
          },
          "execution_count": 30
        }
      ]
    },
    {
      "cell_type": "code",
      "metadata": {
        "colab": {
          "base_uri": "https://localhost:8080/"
        },
        "id": "gYD-u90ldOFy",
        "outputId": "49dd39a8-2697-46af-d0f8-d71e8ad0f5cd"
      },
      "source": [
        "h = jordan_wigner_map()\r\n",
        "print(h)"
      ],
      "execution_count": null,
      "outputs": [
        {
          "output_type": "stream",
          "text": [
            "(-0.09886396933545721) [I0]\n",
            "+ (0.17119774903432944) [Z0]\n",
            "+ (0.17119774903432936) [Z1]\n",
            "+ (-0.22278593040418498) [Z2]\n",
            "+ (-0.22278593040418496) [Z3]\n",
            "+ (0.16862219158920938) [Z0 Z1]\n",
            "+ (0.04532220205287401) [Y0 X1 X2 Y3]\n",
            "+ (-0.04532220205287401) [Y0 Y1 X2 X3]\n",
            "+ (-0.04532220205287401) [X0 X1 Y2 Y3]\n",
            "+ (0.04532220205287401) [X0 Y1 Y2 X3]\n",
            "+ (0.120544822053018) [Z0 Z2]\n",
            "+ (0.165867024105892) [Z0 Z3]\n",
            "+ (0.165867024105892) [Z1 Z2]\n",
            "+ (0.120544822053018) [Z1 Z3]\n",
            "+ (0.17434844185575687) [Z2 Z3]\n"
          ],
          "name": "stdout"
        }
      ]
    },
    {
      "cell_type": "code",
      "metadata": {
        "id": "UBFYf8-a0BN_"
      },
      "source": [
        "qubits = 4\r\n",
        "\r\n",
        "dev = qml.device('default.qubit', wires=qubits)\r\n",
        "\r\n",
        "def circuit(params, wires):\r\n",
        "    #qml.BasisState(np.array([1, 1, 0, 0]), wires=wires)\r\n",
        "    for i in wires:\r\n",
        "        qml.Rot(*params[i], wires=i)\r\n",
        "    qml.CNOT(wires=[2, 3])\r\n",
        "    qml.CNOT(wires=[2, 0])\r\n",
        "    qml.CNOT(wires=[3, 1])\r\n",
        "\r\n",
        "  \r\n",
        "cost_fn = qml.ExpvalCost(circuit, h, dev)\r\n",
        "\r\n",
        "opt = qml.AdamOptimizer(stepsize=0.01)\r\n",
        "np.random.seed(0)\r\n",
        "params = np.random.normal(0, np.pi, (qubits, 3))"
      ],
      "execution_count": null,
      "outputs": []
    },
    {
      "cell_type": "code",
      "metadata": {
        "id": "mbMmztsW0BOB",
        "colab": {
          "base_uri": "https://localhost:8080/"
        },
        "outputId": "f6e4c74b-39f3-4057-c68c-aa1dd8b3437e"
      },
      "source": [
        "max_iterations = 1000\n",
        "conv_tol = 1e-08\n",
        "\n",
        "energy_list = []\n",
        "\n",
        "prev_energy = cost_fn(params)\n",
        "energy_list += [prev_energy]\n",
        "\n",
        "for n in range(max_iterations):\n",
        "    params = opt.step(cost_fn, params)\n",
        "    energy = cost_fn(params)\n",
        "    conv = np.abs(energy - prev_energy)\n",
        "\n",
        "    if (n+1) % 20 == 0:\n",
        "        print('Iteration = {:},  Energy = {:.8f} Ha'.format(n+1, energy))\n",
        "\n",
        "    if conv <= conv_tol:\n",
        "        break\n",
        "\n",
        "    prev_energy = energy\n",
        "    energy_list += [prev_energy]\n",
        "\n",
        "print()\n",
        "print('Final convergence parameter = {:.8f} Ha'.format(conv))\n",
        "print('Final value of the ground-state energy = {:.8f} Ha'.format(energy))\n",
        "print('Accuracy with respect to the FCI energy: {:.8f} Ha ({:.8f} kcal/mol)'.format(\n",
        "    np.abs(energy - (-1.136189454088)), np.abs(energy - (-1.136189454088))*627.503\n",
        "    )\n",
        ")\n",
        "print()\n",
        "print('Final circuit parameters = \\n', params)"
      ],
      "execution_count": null,
      "outputs": [
        {
          "output_type": "stream",
          "text": [
            "Iteration = 20,  Energy = 0.11794595 Ha\n",
            "Iteration = 40,  Energy = 0.00870996 Ha\n",
            "Iteration = 60,  Energy = -0.11372095 Ha\n",
            "Iteration = 80,  Energy = -0.23432854 Ha\n",
            "Iteration = 100,  Energy = -0.34290964 Ha\n",
            "Iteration = 120,  Energy = -0.44178559 Ha\n",
            "Iteration = 140,  Energy = -0.54365110 Ha\n",
            "Iteration = 160,  Energy = -0.65951615 Ha\n",
            "Iteration = 180,  Energy = -0.78372569 Ha\n",
            "Iteration = 200,  Energy = -0.89679510 Ha\n",
            "Iteration = 220,  Energy = -0.98359794 Ha\n",
            "Iteration = 240,  Energy = -1.04249915 Ha\n",
            "Iteration = 260,  Energy = -1.08028547 Ha\n",
            "Iteration = 280,  Energy = -1.10421240 Ha\n",
            "Iteration = 300,  Energy = -1.11906199 Ha\n",
            "Iteration = 320,  Energy = -1.12786286 Ha\n",
            "Iteration = 340,  Energy = -1.13275967 Ha\n",
            "Iteration = 360,  Energy = -1.13528742 Ha\n",
            "Iteration = 380,  Energy = -1.13648213 Ha\n",
            "Iteration = 400,  Energy = -1.13699153 Ha\n",
            "Iteration = 420,  Energy = -1.13718422 Ha\n",
            "Iteration = 440,  Energy = -1.13724763 Ha\n",
            "Iteration = 460,  Energy = -1.13726533 Ha\n",
            "Iteration = 480,  Energy = -1.13726938 Ha\n",
            "Iteration = 500,  Energy = -1.13727009 Ha\n",
            "\n",
            "Final convergence parameter = 0.00000001 Ha\n",
            "Final value of the ground-state energy = -1.13727011 Ha\n",
            "Accuracy with respect to the FCI energy: 0.00108065 Ha (0.67811202 kcal/mol)\n",
            "\n",
            "Final circuit parameters = \n",
            " [[ 5.54193389e+00  3.14092053e+00  3.07479606e+00]\n",
            " [ 7.03997361e+00  3.14155227e+00 -3.07020901e+00]\n",
            " [ 2.98479079e+00 -2.26136252e-01 -1.55282882e-13]\n",
            " [ 1.28993323e+00  9.38358209e-08  4.56873496e+00]]\n"
          ],
          "name": "stdout"
        }
      ]
    },
    {
      "cell_type": "code",
      "metadata": {
        "colab": {
          "base_uri": "https://localhost:8080/",
          "height": 284
        },
        "id": "WWMScmradtrv",
        "outputId": "8e6c5b56-6aac-4051-8d52-4632ee72e715"
      },
      "source": [
        "plt.plot(energy_list)"
      ],
      "execution_count": null,
      "outputs": [
        {
          "output_type": "execute_result",
          "data": {
            "text/plain": [
              "[<matplotlib.lines.Line2D at 0x7f58046d0a20>]"
            ]
          },
          "metadata": {
            "tags": []
          },
          "execution_count": 27
        },
        {
          "output_type": "display_data",
          "data": {
            "image/png": "[encoded data removed]",
            "text/plain": [
              "<Figure size 432x288 with 1 Axes>"
            ]
          },
          "metadata": {
            "tags": [],
            "needs_background": "light"
          }
        }
      ]
    },
    {
      "cell_type": "code",
      "metadata": {
        "id": "RTWi4UA2jitO"
      },
      "source": [
        "bond_length_vqe = np.linspace(0, len(energy_list)-1, len(energy_list), dtype=int)"
      ],
      "execution_count": null,
      "outputs": []
    },
    {
      "cell_type": "code",
      "metadata": {
        "id": "47xgdAA3jc_t"
      },
      "source": [
        "np.savetxt('./VQE_energy_vs_iteration.txt', energy_list)\r\n",
        "np.savetxt('./VQE_length_iteration.txt', bond_length_vqe)"
      ],
      "execution_count": null,
      "outputs": []
    },
    {
      "cell_type": "markdown",
      "metadata": {
        "id": "9YCvZmJb8_zI"
      },
      "source": [
        "## Ground state wave function estimation using the final (optimal) circuit parameters"
      ]
    },
    {
      "cell_type": "code",
      "metadata": {
        "colab": {
          "base_uri": "https://localhost:8080/"
        },
        "id": "ogSTpVs-oCfa",
        "outputId": "66e42a93-6269-447d-c4ab-3b5170e739f1"
      },
      "source": [
        "params"
      ],
      "execution_count": null,
      "outputs": [
        {
          "output_type": "execute_result",
          "data": {
            "text/plain": [
              "array([[ 5.54193389e+00,  3.14092053e+00,  3.07479606e+00],\n",
              "       [ 7.03997361e+00,  3.14155227e+00, -3.07020901e+00],\n",
              "       [ 2.98479079e+00, -2.26136252e-01, -1.55282882e-13],\n",
              "       [ 1.28993323e+00,  9.38358209e-08,  4.56873496e+00]])"
            ]
          },
          "metadata": {
            "tags": []
          },
          "execution_count": 46
        }
      ]
    },
    {
      "cell_type": "code",
      "metadata": {
        "id": "860WZxkcpP4Y"
      },
      "source": [
        "dev = qml.device('default.qubit', wires=4, shots=10000)\r\n",
        "\r\n",
        "@qml.qnode(dev)\r\n",
        "def circuit_optimal(params):\r\n",
        "    #qml.BasisState(np.array([1, 1, 0, 0]), wires=wires)\r\n",
        "    for i in range(4):\r\n",
        "        qml.Rot(*params[i], wires=i)\r\n",
        "    qml.CNOT(wires=[2, 3])\r\n",
        "    qml.CNOT(wires=[2, 0])\r\n",
        "    qml.CNOT(wires=[3, 1])\r\n",
        "    return qml.probs([0, 1, 2, 3])"
      ],
      "execution_count": null,
      "outputs": []
    },
    {
      "cell_type": "code",
      "metadata": {
        "id": "llG0BI3soSVH"
      },
      "source": [
        "prob_state = circuit_optimal(params)"
      ],
      "execution_count": null,
      "outputs": []
    },
    {
      "cell_type": "code",
      "metadata": {
        "colab": {
          "base_uri": "https://localhost:8080/"
        },
        "id": "ukAsW2lCuN64",
        "outputId": "bec6ec7f-c072-4298-f8a9-525e5ace3685"
      },
      "source": [
        "print(prob_state[3] + prob_state[12])\r\n",
        "print(prob_state[3], np.sqrt(prob_state[3]))\r\n",
        "print(prob_state[12], np.sqrt(prob_state[12]))"
      ],
      "execution_count": null,
      "outputs": [
        {
          "output_type": "stream",
          "text": [
            "0.9999998866556078\n",
            "0.01273001216039701 0.11282735554995965\n",
            "0.9872698744952108 0.9936145502634363\n"
          ],
          "name": "stdout"
        }
      ]
    },
    {
      "cell_type": "code",
      "metadata": {
        "colab": {
          "base_uri": "https://localhost:8080/"
        },
        "id": "fO6yLW_ktbRB",
        "outputId": "48482862-d082-4596-fa61-16566c3e0d8a"
      },
      "source": [
        "prob_state"
      ],
      "execution_count": null,
      "outputs": [
        {
          "output_type": "execute_result",
          "data": {
            "text/plain": [
              "array([4.54581886e-17, 2.45441679e-22, 1.14247651e-26, 1.27300122e-02,\n",
              "       1.11499004e-07, 1.00066671e-31, 2.80224526e-17, 5.19003104e-12,\n",
              "       4.02510322e-10, 2.17326762e-15, 1.29027530e-33, 1.43768560e-09,\n",
              "       9.87269874e-01, 8.86042076e-25, 3.16476340e-24, 5.86144993e-19])"
            ]
          },
          "metadata": {
            "tags": []
          },
          "execution_count": 80
        }
      ]
    },
    {
      "cell_type": "code",
      "metadata": {
        "id": "dWIUJbAooIpL"
      },
      "source": [
        "np.savetxt('./VQE_optimal_param_0.7414.txt', params)"
      ],
      "execution_count": null,
      "outputs": []
    }
  ]
}