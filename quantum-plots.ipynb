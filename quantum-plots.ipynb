{
 "cells": [
  {
   "cell_type": "markdown",
   "metadata": {},
   "source": [
    "# Quantum plots (beta)\n",
    "\n",
    "This notebook provides plotting functionality tailored for the use with the `quantumarticle` documentclass."
   ]
  },
  {
   "cell_type": "markdown",
   "metadata": {},
   "source": [
    "### IMPORTANT\n",
    "\n",
    "In case this notebook does not run smoothly, please open an Issue on our GitHub page https://github.com/quantum-journal/quantum-journal/issues and append the following information:\n",
    "\n",
    "- The error message (you can include the whole output as .html).\n",
    "- The version of Jupyter notebook and IPython (as found in the menu under Help > About).\n",
    "- The version of Matplotlib and the current backend. This information can be found by running the following code:\n",
    "    ```python\n",
    "    print(mpl.__version__)\n",
    "    print(mpl.get_backend())\n",
    "    ```\n",
    "    \n",
    "You will help us tremendously in improving your experience.\n",
    "\n",
    "Should you have the problem that your figures are not displayed in the Jupyter notebook, you can still save them as PDF documents via `plt.savefig('filename.pdf')`. Afterwards you can use your favorite PDF viewer to check your figures. Nevertheless you should inform us so that the bug can be removed."
   ]
  },
  {
   "cell_type": "markdown",
   "metadata": {},
   "source": [
    "## Global routines\n",
    "\n",
    "The parameters for the plots are set in a way that the font sizes in the resulting graphic match those in the surrounding document."
   ]
  },
  {
   "cell_type": "code",
   "execution_count": 1,
   "metadata": {},
   "outputs": [
    {
     "name": "stdout",
     "output_type": "stream",
     "text": [
      "Setup methods loaded\n"
     ]
    }
   ],
   "source": [
    "import numpy             as     np\n",
    "import matplotlib        as     mpl\n",
    "import matplotlib.pyplot as     plt\n",
    "from   matplotlib        import rc\n",
    "from   cycler            import cycler\n",
    "\n",
    "_widths = {\n",
    "    # a4paper columnwidth = 426.79135 pt = 5.93 in\n",
    "    # letterpaper columnwidth = 443.57848 pt = 6.16 in\n",
    "    'onecolumn': {\n",
    "        'a4paper' : 5.93,\n",
    "        'letterpaper' : 6.16\n",
    "    },\n",
    "    # a4paper columnwidth = 231.84843 pt = 3.22 in\n",
    "    # letterpaper columnwidth = 240.24199 pt = 3.34 in\n",
    "    'twocolumn': {\n",
    "        'a4paper' : 3.22,\n",
    "        'letterpaper' : 3.34\n",
    "    }\n",
    "}\n",
    "\n",
    "_wide_widths = {\n",
    "    # a4paper wide columnwidth = 426.79135 pt = 5.93 in\n",
    "    # letterpaper wide columnwidth = 443.57848 pt = 6.16 in\n",
    "    'onecolumn': {\n",
    "        'a4paper' : 5.93,\n",
    "        'letterpaper' : 6.16\n",
    "    },\n",
    "    # a4paper wide linewidth = 483.69687 pt = 6.72 in\n",
    "    # letterpaper wide linewidth = 500.48400 pt = 6.95 in\n",
    "    'twocolumn': {\n",
    "        'a4paper' : 6.72,\n",
    "        'letterpaper' : 6.95\n",
    "    }\n",
    "}\n",
    "\n",
    "_fontsizes = {\n",
    "    10 : {\n",
    "        'tiny' : 5,\n",
    "        'scriptsize' : 7,\n",
    "        'footnotesize' : 8, \n",
    "        'small' : 9, \n",
    "        'normalsize' : 10,\n",
    "        'large' : 12, \n",
    "        'Large' : 14, \n",
    "        'LARGE' : 17,\n",
    "        'huge' : 20,\n",
    "        'Huge' : 25\n",
    "    },\n",
    "    11 : {\n",
    "        'tiny' : 6,\n",
    "        'scriptsize' : 8,\n",
    "        'footnotesize' : 9, \n",
    "        'small' : 10, \n",
    "        'normalsize' : 11,\n",
    "        'large' : 12, \n",
    "        'Large' : 14, \n",
    "        'LARGE' : 17,\n",
    "        'huge' :  20,\n",
    "        'Huge' :  25\n",
    "    },\n",
    "    12 : {\n",
    "        'tiny' : 6,\n",
    "        'scriptsize' : 8,\n",
    "        'footnotesize' : 10, \n",
    "        'small' : 11, \n",
    "        'normalsize' : 12,\n",
    "        'large' : 14, \n",
    "        'Large' : 17, \n",
    "        'LARGE' : 20,\n",
    "        'huge' :  25,\n",
    "        'Huge' :  25\n",
    "    }\n",
    "}\n",
    "\n",
    "_width         = 1\n",
    "_wide_width    = 1\n",
    "_quantumviolet = '#53257F'\n",
    "_quantumgray   = '#555555'\n",
    "\n",
    "# Sets up the plot with the fitting arguments so that the font sizes of the plot\n",
    "# and the font sizes of the document are well aligned\n",
    "#\n",
    "#     columns : string = ('onecolumn' | 'twocolumn')\n",
    "#         the columns you used to set up your quantumarticle, \n",
    "#         defaults to 'twocolumn'\n",
    "#\n",
    "#     paper : string = ('a4paper' | 'letterpaper')\n",
    "#         the paper size you used to set up your quantumarticle,\n",
    "#         defaults to 'a4paper'\n",
    "#\n",
    "#     fontsize : int = (10 | 11 | 12)\n",
    "#         the fontsize you used to set up your quantumarticle as int\n",
    "#\n",
    "#     (returns) : dict\n",
    "#         parameters that can be used for plot adjustments\n",
    "\n",
    "def global_setup(columns = 'twocolumn', paper = 'a4paper', fontsize = 10):\n",
    "    plt.rcdefaults()\n",
    "        \n",
    "    # Seaborn white is a good base style\n",
    "    plt.style.use(['seaborn-white', './quantum-plots.mplstyle'])\n",
    "    \n",
    "    try:        \n",
    "        # This hackery is necessary so that jupyther shows the plots\n",
    "        mpl.use(\"pgf\")\n",
    "        %matplotlib inline\n",
    "        plt.plot()\n",
    "        mpl.use(\"pgf\")\n",
    "    except:\n",
    "        print('Call to matplotlib.use had no effect')\n",
    "        \n",
    "    mpl.interactive(False) \n",
    "    \n",
    "    # Now prepare the styling that depends on the settings of the document\n",
    "    \n",
    "    global _width \n",
    "    _width = _widths[columns][paper]\n",
    "    \n",
    "    global _wide_width \n",
    "    _wide_width = _wide_widths[columns][paper]\n",
    "    \n",
    "    # Use the default fontsize scaling of LaTeX\n",
    "    global _fontsizes\n",
    "    fontsizes = _fontsizes[fontsize]\n",
    "    \n",
    "    plt.rcParams['axes.labelsize'] = fontsizes['small']\n",
    "    plt.rcParams['axes.titlesize'] = fontsizes['large']\n",
    "    plt.rcParams['xtick.labelsize'] = fontsizes['footnotesize']\n",
    "    plt.rcParams['ytick.labelsize'] = fontsizes['footnotesize']\n",
    "    plt.rcParams['font.size'] = fontsizes['small']\n",
    "    \n",
    "    return {\n",
    "            'fontsizes' : fontsizes,\n",
    "            'colors' : {\n",
    "                'quantumviolet' : _quantumviolet,\n",
    "                'quantumgray' : _quantumgray\n",
    "            }\n",
    "        }\n",
    "    \n",
    "\n",
    "# Sets up the plot with the fitting arguments so that the font sizes of the plot\n",
    "# and the font sizes of the document are well aligned\n",
    "#\n",
    "#     aspect_ratio : float\n",
    "#         the aspect ratio (width/height) of your plot\n",
    "#         defaults to the golden ratio\n",
    "#\n",
    "#     width_ratio : float in [0, 1]\n",
    "#         the width of your plot when you insert it into the document, e.g.\n",
    "#         .8 of the regular width\n",
    "#         defaults to 1.0\n",
    "#\n",
    "#     wide : bool \n",
    "#         indicates if the figures spans two columns in twocolumn mode, i.e.\n",
    "#         when the figure* environment is used, has no effect in onecolumn mode \n",
    "#         defaults to False\n",
    "#\n",
    "#     (returns) : matplotlib figure object\n",
    "#         the initialized figure object\n",
    "\n",
    "def plot_setup(aspect_ratio = 1/1.62, width_ratio = 1.0, wide = False):\n",
    "    width = (_wide_width if wide else _width) * width_ratio\n",
    "    height = width * aspect_ratio\n",
    "           \n",
    "    return plt.figure(figsize=(width,height), dpi=120, facecolor='white')\n",
    "    \n",
    "print('Setup methods loaded')"
   ]
  },
  {
   "cell_type": "markdown",
   "metadata": {},
   "source": [
    "## Examples\n",
    "\n",
    "When setting up your plots you have to call `global_setup` once and set the global options of your `quantumarticle`. \n",
    "\n",
    "The routine `global_setup` returns a dictionary with fontsizes and custom colors that should be used instead of numeric values. This ensures consistency with the other font sizes used in your LaTeX document. This means \n",
    "```python\n",
    "fontsize = props['fontsizes']['large']\n",
    "```\n",
    "should be preferred over\n",
    "```python\n",
    "fontsize = 12\n",
    "``` "
   ]
  },
  {
   "cell_type": "code",
   "execution_count": 2,
   "metadata": {},
   "outputs": [
    {
     "name": "stdout",
     "output_type": "stream",
     "text": [
      "Global props:\n",
      "fontsizes :\n",
      "     tiny :  6\n",
      "     scriptsize :  8\n",
      "     footnotesize :  9\n",
      "     small :  10\n",
      "     normalsize :  11\n",
      "     large :  12\n",
      "     Large :  14\n",
      "     LARGE :  17\n",
      "     huge :  20\n",
      "     Huge :  25\n",
      "colors :\n",
      "     quantumviolet :  #53257F\n",
      "     quantumgray :  #555555\n"
     ]
    }
   ],
   "source": [
    "props = global_setup(columns = 'twocolumn', paper = 'a4paper', fontsize = 11)\n",
    "\n",
    "print('Global props:')\n",
    "for key in props:\n",
    "    print(key, ':')\n",
    "    for subkey in props[key]:\n",
    "        print('    ', subkey, ': ', props[key][subkey])"
   ]
  },
  {
   "cell_type": "markdown",
   "metadata": {},
   "source": [
    "### Plotting advice\n",
    "\n",
    "Plots should _always_ be saved as __PDF__ files via `plt.savefig('filename.pdf')`. This will result in the highest quality graphics that can seamlessly integrated in your publications. \n",
    "\n",
    "We further recommend that you use `tight_layout()` on your plots."
   ]
  },
  {
   "cell_type": "markdown",
   "metadata": {},
   "source": [
    "### Lineplot\n",
    "\n",
    "To set up the plotting environment for your figure, you have to use the function `plot_setup` which ensures the proper sizing of your plot."
   ]
  },
  {
   "cell_type": "code",
   "execution_count": 6,
   "metadata": {
    "scrolled": false
   },
   "outputs": [
    {
     "data": {
      "text/plain": [
       "<Figure size 386.4x238.519 with 0 Axes>"
      ]
     },
     "metadata": {},
     "output_type": "display_data"
    }
   ],
   "source": [
    "fig = plot_setup()"
   ]
  },
  {
   "cell_type": "markdown",
   "metadata": {},
   "source": [
    "# Energy Plots"
   ]
  },
  {
   "cell_type": "code",
   "execution_count": 3,
   "metadata": {},
   "outputs": [],
   "source": [
    "FCI_energy_vs_L_wide = np.loadtxt('./numerical_results/FCI_energy.txt')\n",
    "FCI_bond_length_wide = np.loadtxt('./numerical_results/FCI_length.txt')\n",
    "\n",
    "VQE_energy_vs_L_wide = np.loadtxt('./numerical_results/VQE_energy_vs_L_wide.txt')\n",
    "VQE_bond_length_wide = np.loadtxt('./numerical_results/VQE_length_wide.txt')"
   ]
  },
  {
   "cell_type": "code",
   "execution_count": 4,
   "metadata": {},
   "outputs": [],
   "source": [
    "c_quantum = props['colors']['quantumviolet']"
   ]
  },
  {
   "cell_type": "code",
   "execution_count": 8,
   "metadata": {},
   "outputs": [
    {
     "data": {
      "image/png": "[encoded data removed]",
      "text/plain": [
       "<Figure size 432x288 with 1 Axes>"
      ]
     },
     "metadata": {
      "needs_background": "light"
     },
     "output_type": "display_data"
    }
   ],
   "source": [
    "FCI, = plt.plot(FCI_bond_length_wide, FCI_energy_vs_L_wide, color = props['colors']['quantumgray'], ls = '--')\n",
    "VQE_wide = plt.scatter(VQE_bond_length_wide, VQE_energy_vs_L_wide, color = c_quantum, marker = 'o', alpha=1, linewidths=4)\n",
    "\n",
    "plt.xlabel('Panjang Ikatan ($L$) [Å]')\n",
    "plt.ylabel('Energi $\\\\textit{Ground State}$ ($E_{gs}$) [Hartree]')\n",
    "plt.legend([FCI, VQE_wide], ['FCI', 'VQE'])\n",
    "#plt.title('$L = 0.1$ - $3.0$ Å')\n",
    "plt.tight_layout(pad = 0.1)\n",
    "\n",
    "plt.savefig('./plots/E_vs_L_wide.pdf')"
   ]
  },
  {
   "cell_type": "code",
   "execution_count": 9,
   "metadata": {},
   "outputs": [],
   "source": [
    "FCI_energy_vs_L_tight = np.loadtxt('./numerical_results/FCI_energy_tight.txt')\n",
    "FCI_bond_length_tight = np.loadtxt('./numerical_results/FCI_length_tight.txt')\n",
    "\n",
    "VQE_energy_vs_L_tight = np.loadtxt('./numerical_results/VQE_energy_vs_L_tight.txt')\n",
    "VQE_bond_length_tight = np.loadtxt('./numerical_results/VQE_length_tight.txt')"
   ]
  },
  {
   "cell_type": "code",
   "execution_count": 10,
   "metadata": {},
   "outputs": [
    {
     "data": {
      "image/png": "[encoded data removed]",
      "text/plain": [
       "<Figure size 432x288 with 1 Axes>"
      ]
     },
     "metadata": {
      "needs_background": "light"
     },
     "output_type": "display_data"
    }
   ],
   "source": [
    "FCI, = plt.plot(FCI_bond_length_tight, FCI_energy_vs_L_tight, color = props['colors']['quantumgray'], ls = '--')\n",
    "VQE_tight = plt.scatter(VQE_bond_length_tight, VQE_energy_vs_L_tight, color = c_quantum, marker = 'o', alpha=1, linewidths=4)\n",
    "\n",
    "plt.xlabel('Panjang Ikatan ($L$) [Å]')\n",
    "plt.ylabel('Energi $\\\\textit{Ground State}$ ($E_{gs}$) [Hartree]')\n",
    "plt.legend([FCI, VQE_wide], ['FCI', 'VQE'])\n",
    "plt.tight_layout(pad = 0.1)\n",
    "#plt.title('$L = 0.6$ - $0.8$ Å')\n",
    "\n",
    "plt.savefig('./plots/E_vs_L_tight.pdf')"
   ]
  },
  {
   "cell_type": "code",
   "execution_count": 11,
   "metadata": {},
   "outputs": [],
   "source": [
    "FCI_energy_vs_L_crammed = np.loadtxt('./numerical_results/FCI_energy_crammed.txt')\n",
    "FCI_bond_length_crammed = np.loadtxt('./numerical_results/FCI_length_crammed.txt')\n",
    "\n",
    "VQE_energy_vs_L_crammed = np.loadtxt('./numerical_results/VQE_energy_vs_L_crammed.txt')\n",
    "VQE_bond_length_crammed = np.loadtxt('./numerical_results/VQE_length_crammed.txt')"
   ]
  },
  {
   "cell_type": "code",
   "execution_count": 12,
   "metadata": {
    "scrolled": true
   },
   "outputs": [
    {
     "data": {
      "image/png": "[encoded data removed]",
      "text/plain": [
       "<Figure size 432x288 with 1 Axes>"
      ]
     },
     "metadata": {
      "needs_background": "light"
     },
     "output_type": "display_data"
    }
   ],
   "source": [
    "FCI, = plt.plot(FCI_bond_length_crammed, FCI_energy_vs_L_crammed, color = props['colors']['quantumgray'], ls = '--')\n",
    "VQE_tight = plt.scatter(VQE_bond_length_crammed, VQE_energy_vs_L_crammed, color = c_quantum, marker = 'o', alpha=1, linewidths=4)\n",
    "\n",
    "plt.xlabel('Panjang Ikatan ($L$) [Å]')\n",
    "plt.ylabel('Energi $\\\\textit{Ground State}$ ($E_{gs}$) [Hartree]')\n",
    "plt.legend([FCI, VQE_wide], ['FCI', 'VQE'])\n",
    "plt.tight_layout(pad = 0.1)\n",
    "#plt.title('$L = 0.73$ - $0.75$ Å')\n",
    "plt.savefig('./plots/E_vs_L_crammed.pdf')"
   ]
  },
  {
   "cell_type": "code",
   "execution_count": 13,
   "metadata": {},
   "outputs": [
    {
     "data": {
      "text/plain": [
       "0.7348649729945989"
      ]
     },
     "execution_count": 13,
     "metadata": {},
     "output_type": "execute_result"
    }
   ],
   "source": [
    "FCI_bond_length_crammed[np.argmin(FCI_energy_vs_L_crammed)]"
   ]
  },
  {
   "cell_type": "code",
   "execution_count": 14,
   "metadata": {},
   "outputs": [
    {
     "data": {
      "text/plain": [
       "0.7352631578947368"
      ]
     },
     "execution_count": 14,
     "metadata": {},
     "output_type": "execute_result"
    }
   ],
   "source": [
    "VQE_bond_length_crammed[np.argmin(VQE_energy_vs_L_crammed)]"
   ]
  },
  {
   "cell_type": "code",
   "execution_count": 15,
   "metadata": {},
   "outputs": [],
   "source": [
    "VQE_energy_vs_iter = np.loadtxt('./numerical_results/VQE_energy_vs_iteration.txt')\n",
    "VQE_bond_length_iteration = np.loadtxt('./numerical_results/VQE_length_iteration.txt')\n",
    "\n",
    "\n",
    "# FCI energy for constant bond length = 0.7414$ Å\n",
    "FCI_energy_vs_iter = np.linspace(-1.1372701746609022, -1.1372701746609022, 600)"
   ]
  },
  {
   "cell_type": "code",
   "execution_count": 16,
   "metadata": {},
   "outputs": [],
   "source": [
    "e_new = []\n",
    "bond_length_new = []\n",
    "\n",
    "for i in range(len(VQE_energy_vs_iter)):\n",
    "    if i%10 == 0:\n",
    "        e_new += [VQE_energy_vs_iter[i]]\n",
    "        bond_length_new += [i]"
   ]
  },
  {
   "cell_type": "code",
   "execution_count": 17,
   "metadata": {},
   "outputs": [
    {
     "data": {
      "image/png": "[encoded data removed]",
      "text/plain": [
       "<Figure size 432x288 with 1 Axes>"
      ]
     },
     "metadata": {
      "needs_background": "light"
     },
     "output_type": "display_data"
    }
   ],
   "source": [
    "FCI, = plt.plot(FCI_energy_vs_iter, color = props['colors']['quantumgray'], ls = '--')\n",
    "VQE_tight = plt.scatter(bond_length_new, e_new, color = c_quantum, marker = 'x', alpha=1, s=20)\n",
    "\n",
    "plt.xlabel('Iterasi')\n",
    "plt.ylabel('Energi ($E(\\\\theta)$) [Hartree]')\n",
    "plt.legend([FCI, VQE_wide], ['$E_{gs}$ FCI', '$E_{\\\\theta}$ VQE'])\n",
    "plt.tight_layout(pad = 0.1)\n",
    "#plt.title('$L = 0.7414$ Å')\n",
    "plt.savefig('./plots/E_vs_iteration.pdf')"
   ]
  },
  {
   "cell_type": "markdown",
   "metadata": {},
   "source": [
    "# MAE Calculations"
   ]
  },
  {
   "cell_type": "code",
   "execution_count": 18,
   "metadata": {},
   "outputs": [],
   "source": [
    "FCI_wide = np.loadtxt('./numerical_results/FCI_energy_wide_30.txt')\n",
    "FCI_tight = np.loadtxt('./numerical_results/FCI_energy_tight_20.txt')\n",
    "FCI_crammed = np.loadtxt('./numerical_results/FCI_energy_crammed_20.txt')"
   ]
  },
  {
   "cell_type": "code",
   "execution_count": 19,
   "metadata": {},
   "outputs": [],
   "source": [
    "total_error = np.sum(abs(FCI_wide - VQE_energy_vs_L_wide)) + np.sum(abs(FCI_tight - VQE_energy_vs_L_tight)) + np.sum(abs(FCI_crammed - VQE_energy_vs_L_crammed))"
   ]
  },
  {
   "cell_type": "code",
   "execution_count": 20,
   "metadata": {},
   "outputs": [
    {
     "data": {
      "text/plain": [
       "6.524763142636202e-08"
      ]
     },
     "execution_count": 20,
     "metadata": {},
     "output_type": "execute_result"
    }
   ],
   "source": [
    "total_error/(len(FCI_wide) + len(FCI_tight) + len(FCI_crammed))"
   ]
  },
  {
   "cell_type": "code",
   "execution_count": 21,
   "metadata": {},
   "outputs": [
    {
     "data": {
      "text/plain": [
       "[<matplotlib.lines.Line2D at 0x1a291730c08>]"
      ]
     },
     "execution_count": 21,
     "metadata": {},
     "output_type": "execute_result"
    },
    {
     "data": {
      "image/png": "[encoded data removed]",
      "text/plain": [
       "<Figure size 432x288 with 1 Axes>"
      ]
     },
     "metadata": {
      "needs_background": "light"
     },
     "output_type": "display_data"
    }
   ],
   "source": [
    "plt.plot(VQE_energy_vs_iter-(-1.1372701746609022), color = props['colors']['quantumgray'], ls = '--')"
   ]
  },
  {
   "cell_type": "code",
   "execution_count": 22,
   "metadata": {},
   "outputs": [
    {
     "data": {
      "text/plain": [
       "7.845091665181769e-08"
      ]
     },
     "execution_count": 22,
     "metadata": {},
     "output_type": "execute_result"
    }
   ],
   "source": [
    "abs(np.min(VQE_energy_vs_iter) - (-1.1372701746609022))"
   ]
  },
  {
   "cell_type": "code",
   "execution_count": null,
   "metadata": {},
   "outputs": [],
   "source": []
  }
 ],
 "metadata": {
  "kernelspec": {
   "display_name": "Python 3",
   "language": "python",
   "name": "python3"
  },
  "language_info": {
   "codemirror_mode": {
    "name": "ipython",
    "version": 3
   },
   "file_extension": ".py",
   "mimetype": "text/x-python",
   "name": "python",
   "nbconvert_exporter": "python",
   "pygments_lexer": "ipython3",
   "version": "3.7.4"
  }
 },
 "nbformat": 4,
 "nbformat_minor": 2
}
